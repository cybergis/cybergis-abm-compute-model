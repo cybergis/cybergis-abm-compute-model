{
 "cells": [
  {
   "cell_type": "markdown",
   "id": "4e68fa5d-436e-4c69-a01b-724f031d4986",
   "metadata": {},
   "source": [
    "# Running CyberGIS-ABM on CyberGIS-Compute\n",
    "\n",
    "**Authors:** Alex Michels, Becky Vandewalle\n",
    "\n",
    "For this to work you MUST be using my PR of the SDK and the Test server of the Core using my PR. We will obviously roll out these updates later, but that is the current situation.\n",
    "\n",
    "To install my version of the SDK, run the line below, let it complete and then restart the kernel."
   ]
  },
  {
   "cell_type": "code",
   "execution_count": null,
   "id": "1174e294-3e60-42aa-96c7-bbcc8cf6760d",
   "metadata": {},
   "outputs": [],
   "source": [
    "!pip install --force-reinstall --no-deps git+https://github.com/cybergis/cybergis-compute-python-sdk.git@refs/pull/95/merge"
   ]
  },
  {
   "cell_type": "markdown",
   "id": "1fbe2411-6352-4c9a-9dde-2dad4dd1feab",
   "metadata": {},
   "source": [
    "**REMEMBER TO RESTART YOUR KERNEL BEFORE ADVANCING**\n",
    "\n",
    "When you have restarted your kernel, the below line should output:\n",
    "\n",
    "```\n",
    "'/home/jovyan/.local/python3-0.9.4/lib/python3.8/site-packages/cybergis_compute_client/__init__.py'\n",
    "```\n",
    "\n",
    "This is your locally installed version of the SDK as opposed to the version in CVMFS."
   ]
  },
  {
   "cell_type": "code",
   "execution_count": 1,
   "id": "e28c745b-4c9d-4b38-9890-ccf25174c940",
   "metadata": {},
   "outputs": [
    {
     "data": {
      "text/plain": [
       "'/home/jovyan/.local/python3-0.9.4/lib/python3.8/site-packages/cybergis_compute_client/__init__.py'"
      ]
     },
     "execution_count": 1,
     "metadata": {},
     "output_type": "execute_result"
    }
   ],
   "source": [
    "import cybergis_compute_client\n",
    "cybergis_compute_client.__file__"
   ]
  },
  {
   "cell_type": "code",
   "execution_count": 2,
   "id": "f8937ff0-d721-4de1-9b72-fc8111ef1194",
   "metadata": {},
   "outputs": [],
   "source": [
    "from cybergis_compute_client import CyberGISCompute\n",
    "\n",
    "cybergis = CyberGISCompute(\n",
    "    url=\"cgjobsup-test.cigi.illinois.edu\"\n",
    ")"
   ]
  },
  {
   "cell_type": "markdown",
   "id": "9746e6c2-03c1-47ad-b831-b275acfc1366",
   "metadata": {},
   "source": [
    "When the UI loads, check under the `Slurm Computing Configurations` to ensure you see the `modules` dropdown. You don't need to do anything, but that dropdown MUST be there for this to work.\n",
    "\n",
    "You can then submit the job, let it run (~10 mins I think?) and download the results back."
   ]
  },
  {
   "cell_type": "code",
   "execution_count": 3,
   "id": "554cd1c9-f638-4802-aeb2-eedc2b966f0e",
   "metadata": {},
   "outputs": [
    {
     "name": "stdout",
     "output_type": "stream",
     "text": [
      "📃 Found \"cybergis_compute_user.json! NOTE: if you want to login as another user, please remove this file\n",
      "🎯 Logged in as alexandermichels@cybergisx.cigi.illinois.edu\n"
     ]
    },
    {
     "data": {
      "application/vnd.jupyter.widget-view+json": {
       "model_id": "a14e1d30218d4bdfbdd10252396affaa",
       "version_major": 2,
       "version_minor": 0
      },
      "text/plain": [
       "Tab(children=(Output(), Output(), Output(), Output(), Output()), _titles={'0': 'Job Configuration', '1': 'Your…"
      ]
     },
     "metadata": {},
     "output_type": "display_data"
    }
   ],
   "source": [
    "cybergis.show_ui(\n",
    "    defaultJob=\"cybergis-abm\"  # open this model by default, not required. If this errors something is wrong\n",
    ")"
   ]
  },
  {
   "cell_type": "markdown",
   "id": "a8dd10db-4b95-4994-9493-ca504921ab8c",
   "metadata": {},
   "source": [
    "## STOP, RUN THE MODEL AND DOWNLOAD RESULT BEFORE GOING FURTHER"
   ]
  },
  {
   "cell_type": "code",
   "execution_count": 4,
   "id": "f95d3502-cdb4-4a60-9866-d2da4b075641",
   "metadata": {},
   "outputs": [
    {
     "name": "stdout",
     "output_type": "stream",
     "text": [
      "Our outputs are at /home/jovyan/work/globus_download_1740697722YuOlX\n"
     ]
    }
   ],
   "source": [
    "# get the download path \n",
    "# ONLY RUN THIS AFTER YOU'VE RUN THE MODEL AND DOWNLOADED RESULTS\n",
    "download_path = cybergis.recentDownloadPath\n",
    "print(f\"Our outputs are at {download_path}\")"
   ]
  },
  {
   "cell_type": "code",
   "execution_count": null,
   "id": "1715641c-7634-4c57-ab4c-b55745022972",
   "metadata": {
    "tags": []
   },
   "outputs": [
    {
     "data": {
      "text/plain": [
       "['/home/jovyan/work/globus_download_1740697722YuOlX/par_sim_0__p-0_ts-511.jpg',\n",
       " '/home/jovyan/work/globus_download_1740697722YuOlX/par_sim_0__p-0_ts-512.jpg',\n",
       " '/home/jovyan/work/globus_download_1740697722YuOlX/par_sim_0__p-0_ts-513.jpg',\n",
       " '/home/jovyan/work/globus_download_1740697722YuOlX/par_sim_0__p-0_ts-514.jpg',\n",
       " '/home/jovyan/work/globus_download_1740697722YuOlX/par_sim_0__p-0_ts-515.jpg',\n",
       " '/home/jovyan/work/globus_download_1740697722YuOlX/par_sim_0__p-0_ts-516.jpg',\n",
       " '/home/jovyan/work/globus_download_1740697722YuOlX/par_sim_0__p-0_ts-517.jpg',\n",
       " '/home/jovyan/work/globus_download_1740697722YuOlX/par_sim_0__p-0_ts-518.jpg',\n",
       " '/home/jovyan/work/globus_download_1740697722YuOlX/par_sim_0__p-0_ts-519.jpg',\n",
       " '/home/jovyan/work/globus_download_1740697722YuOlX/par_sim_0__p-0_ts-520.jpg']"
      ]
     },
     "execution_count": 5,
     "metadata": {},
     "output_type": "execute_result"
    }
   ],
   "source": [
    "import imageio\n",
    "import os\n",
    "import pathlib\n",
    "import tqdm\n",
    "\n",
    "fname = download_path + \"/par_sim_0__p-0_ts-{}.jpg\"\n",
    "\n",
    "counter = 0\n",
    "file = fname.format(counter)\n",
    "files = []\n",
    "while os.path.exists(file):\n",
    "    files.append(file)\n",
    "    counter+=1\n",
    "    file = fname.format(counter)\n",
    "files[-10:]"
   ]
  },
  {
   "cell_type": "markdown",
   "id": "2345974d-0fe4-4d7f-9400-3ea5c1fc2ee8",
   "metadata": {},
   "source": [
    "Delete the current `movie.gif` if you want to make sure your code is creating a new one."
   ]
  },
  {
   "cell_type": "code",
   "execution_count": 6,
   "id": "68ee0612-7dac-4a6f-8a8a-c699720ae632",
   "metadata": {},
   "outputs": [
    {
     "name": "stderr",
     "output_type": "stream",
     "text": [
      "  0%|          | 0/521 [00:00<?, ?it/s]/tmp/ipykernel_2149/3572484436.py:3: DeprecationWarning: Starting with ImageIO v3 the behavior of this function will switch to that of iio.v3.imread. To keep the current behavior (and make this warning disappear) use `import imageio.v2 as imageio` or call `imageio.v2.imread` directly.\n",
      "  images.append(imageio.imread(f))\n",
      "100%|██████████| 521/521 [00:28<00:00, 18.32it/s]\n"
     ]
    }
   ],
   "source": [
    "images = []\n",
    "for f in tqdm.tqdm(files):\n",
    "    images.append(imageio.imread(f))\n",
    "imageio.mimsave(\"./movie.gif\", images) # this part of the code takes a while"
   ]
  },
  {
   "cell_type": "markdown",
   "id": "c6ae6aac-3276-47f5-85b6-70513213f49a",
   "metadata": {},
   "source": [
    "![Gif](movie.gif \"evac gif\")"
   ]
  },
  {
   "cell_type": "code",
   "execution_count": null,
   "id": "b7e1e0b2-1c69-4868-9767-b8a1330b8de6",
   "metadata": {},
   "outputs": [],
   "source": []
  }
 ],
 "metadata": {
  "kernelspec": {
   "display_name": "Python 3",
   "language": "python",
   "name": "python3"
  },
  "language_info": {
   "codemirror_mode": {
    "name": "ipython",
    "version": 3
   },
   "file_extension": ".py",
   "mimetype": "text/x-python",
   "name": "python",
   "nbconvert_exporter": "python",
   "pygments_lexer": "ipython3",
   "version": "3.8.12"
  }
 },
 "nbformat": 4,
 "nbformat_minor": 5
}
